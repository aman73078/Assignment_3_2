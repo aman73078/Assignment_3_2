{
 "cells": [
  {
   "cell_type": "code",
   "execution_count": 56,
   "id": "a7921597-8fe6-4536-b89d-efe48ddd80d8",
   "metadata": {},
   "outputs": [],
   "source": [
    "# Q1. Create a python program to sort the given list of tuples based on integer value using a\n",
    "#     lambda function.\n",
    "#     [('Sachin Tendulkar', 34357), ('Ricky Ponting', 27483), ('Jack Kallis', 25534), ('Virat \n",
    "#     Kohli', 24936)]"
   ]
  },
  {
   "cell_type": "code",
   "execution_count": 57,
   "id": "a7801f9c-2256-4e15-bbde-7886dfc00b0f",
   "metadata": {},
   "outputs": [
    {
     "name": "stdout",
     "output_type": "stream",
     "text": [
      "[('Virat Kohli', 24936), ('Jack Kallis', 25534), ('Ricky Ponting', 27483), ('Sachin Tendulkar', 34357)]\n"
     ]
    }
   ],
   "source": [
    "# Ans-\n",
    "mylist =  [('Sachin Tendulkar', 34357), ('Ricky Ponting', 27483), ('Jack Kallis', 25534), ('Virat Kohli', 24936)]\n",
    "mylist.sort(key = lambda x : x[1])\n",
    "print(mylist)"
   ]
  },
  {
   "cell_type": "code",
   "execution_count": 58,
   "id": "65b7a578-43c4-4fe7-8be1-0aefb411c1b0",
   "metadata": {},
   "outputs": [],
   "source": [
    "# Q2. Write a Python Program to find the squares of all the numbers in the given list of integers\n",
    "#     using lambda and map functions.\n",
    "#     [1, 2, 3, 4, 5, 6, 7, 8, 9, 10]"
   ]
  },
  {
   "cell_type": "code",
   "execution_count": 59,
   "id": "6f5ef775-aece-4d27-be8b-55781e0fc6e4",
   "metadata": {},
   "outputs": [
    {
     "data": {
      "text/plain": [
       "[1, 4, 9, 16, 25, 36, 49, 64, 81, 100]"
      ]
     },
     "execution_count": 59,
     "metadata": {},
     "output_type": "execute_result"
    }
   ],
   "source": [
    "# Ans- \n",
    "\n",
    "my_list = [1, 2, 3, 4, 5, 6, 7, 8, 9, 10]\n",
    "list(map(lambda x : x**2, my_list))"
   ]
  },
  {
   "cell_type": "code",
   "execution_count": 60,
   "id": "b4c4c86c-1d1b-4d29-bb31-c91591c4023f",
   "metadata": {},
   "outputs": [],
   "source": [
    "# Q3. Write a python program to convert the given list of integers into a tuple of strings. Use \n",
    "#     map and lambda functions\n",
    "\n",
    "#     Given String: [1, 2, 3, 4, 5, 6, 7, 8, 9, 10]\n",
    "\n",
    "#     Expected output: ('1', '2', '3', '4', '5', '6', '7', '8', '9', '10')"
   ]
  },
  {
   "cell_type": "code",
   "execution_count": 61,
   "id": "ddb1ab8a-b749-4884-92ae-02bc8aea0384",
   "metadata": {},
   "outputs": [
    {
     "name": "stdout",
     "output_type": "stream",
     "text": [
      "Tuple of string :  ('1', '2', '3', '4', '5', '6', '7', '8', '9', '10')\n"
     ]
    }
   ],
   "source": [
    "# Ans- \n",
    "my_list_1 = [1, 2, 3, 4, 5, 6, 7, 8, 9, 10]\n",
    "new_list_2 = tuple(map(lambda x : str(x), my_list_1))\n",
    "print(\"Tuple of string : \", new_list_2)"
   ]
  },
  {
   "cell_type": "code",
   "execution_count": 62,
   "id": "4adf6897-0427-408b-8550-db3022a2d942",
   "metadata": {},
   "outputs": [],
   "source": [
    "# Q4. Write a python program using reduce function to compute the product of a list containing \n",
    "#     numbers from 1 to 25."
   ]
  },
  {
   "cell_type": "code",
   "execution_count": 63,
   "id": "7c5ac958-3105-41a0-8e27-65d54687cd28",
   "metadata": {},
   "outputs": [
    {
     "name": "stdout",
     "output_type": "stream",
     "text": [
      "The product :  15511210043330985984000000\n"
     ]
    }
   ],
   "source": [
    "# Ans- \n",
    "from functools import reduce\n",
    "my_list_2 = list(range(1,26))\n",
    "print(\"The product : \", reduce(lambda x,y : x*y , my_list_2))"
   ]
  },
  {
   "cell_type": "code",
   "execution_count": 64,
   "id": "d464be1a-c6a5-4382-94ab-98e8cf301798",
   "metadata": {},
   "outputs": [],
   "source": [
    "# Q5. Write a python program to filter the numbers in a given list that are divisible by 2 and 3 \n",
    "#     using the filter function.\n",
    "\n",
    "#     [2, 3, 6, 9, 27, 60, 90, 120, 55, 46]"
   ]
  },
  {
   "cell_type": "code",
   "execution_count": 65,
   "id": "37600cf4-5ec4-4ef2-98b6-cd810fa6dffe",
   "metadata": {},
   "outputs": [
    {
     "name": "stdout",
     "output_type": "stream",
     "text": [
      "Numbers that are divisible by 2 and 3 :  [6, 60, 90, 120]\n"
     ]
    }
   ],
   "source": [
    "# Ans-\n",
    "my_list_3 = [2, 3, 6, 9, 27, 60, 90, 120, 55, 46]\n",
    "new_list = list(filter(lambda x : x % 2 == 0 and x % 3 == 0 , my_list_3))\n",
    "print(\"Numbers that are divisible by 2 and 3 : \", new_list)"
   ]
  },
  {
   "cell_type": "code",
   "execution_count": 66,
   "id": "4d2af554-0375-41c3-b421-b4db5f259002",
   "metadata": {},
   "outputs": [],
   "source": [
    "# Q6. Write a python program to find palindromes in the given list of strings using lambda and \n",
    "#     filter function.\n",
    "\n",
    "#     ['python', 'php', 'aba', 'radar', 'level']"
   ]
  },
  {
   "cell_type": "code",
   "execution_count": 67,
   "id": "6ff22f17-eb6d-4ba0-85cb-47e79f15940d",
   "metadata": {},
   "outputs": [
    {
     "name": "stdout",
     "output_type": "stream",
     "text": [
      "Palindromes string :  ['php', 'aba', 'radar', 'level']\n"
     ]
    }
   ],
   "source": [
    "# Ans-\n",
    "my_list_4 =  ['python', 'php', 'aba', 'radar', 'level']\n",
    "new_list1 = list(filter(lambda x : x == x[::-1], my_list_4))\n",
    "print(\"Palindromes string : \", new_list1)"
   ]
  },
  {
   "cell_type": "code",
   "execution_count": 68,
   "id": "24a89776-17ca-4275-987d-27adbbc2a530",
   "metadata": {},
   "outputs": [
    {
     "name": "stdout",
     "output_type": "stream",
     "text": [
      "Palindromes string :  ['php', 'aba', 'radar', 'level']\n"
     ]
    }
   ],
   "source": [
    "                                          # or \n",
    "def test(x):\n",
    "    return x == x[::-1]\n",
    "\n",
    "new_list_1 = list(filter(test, my_list_4))\n",
    "print(\"Palindromes string : \", new_list_1)"
   ]
  },
  {
   "cell_type": "code",
   "execution_count": null,
   "id": "bf0072ba-4e7d-4093-a959-c157dac7fc1c",
   "metadata": {},
   "outputs": [],
   "source": []
  }
 ],
 "metadata": {
  "kernelspec": {
   "display_name": "Python 3 (ipykernel)",
   "language": "python",
   "name": "python3"
  },
  "language_info": {
   "codemirror_mode": {
    "name": "ipython",
    "version": 3
   },
   "file_extension": ".py",
   "mimetype": "text/x-python",
   "name": "python",
   "nbconvert_exporter": "python",
   "pygments_lexer": "ipython3",
   "version": "3.10.8"
  }
 },
 "nbformat": 4,
 "nbformat_minor": 5
}
